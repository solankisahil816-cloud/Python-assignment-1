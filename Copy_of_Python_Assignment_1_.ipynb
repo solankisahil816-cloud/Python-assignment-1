{
  "nbformat": 4,
  "nbformat_minor": 0,
  "metadata": {
    "colab": {
      "provenance": []
    },
    "kernelspec": {
      "name": "python3",
      "display_name": "Python 3"
    },
    "language_info": {
      "name": "python"
    }
  },
  "cells": [
    {
      "cell_type": "markdown",
      "source": [],
      "metadata": {
        "id": "irRQPsT2pEny"
      }
    },
    {
      "cell_type": "code",
      "source": [],
      "metadata": {
        "id": "jyjfF6H-_bGh"
      },
      "execution_count": null,
      "outputs": []
    },
    {
      "cell_type": "markdown",
      "source": [
        "\n",
        "1. What is Python, and why is it popular?\n",
        "Python is a high-level, interpreted programming language known for its simple and readable syntax. It is popular due to its versatility, extensive libraries, and strong community support. It is widely used in web development, data science, artificial intelligence, and scientific computing.\n",
        "\n",
        "\n",
        "2. What is an interpreter in Python?\n",
        "An interpreter is a program that reads and executes code line by line. In Python, the interpreter translates the human-readable Python code into a language that the computer can understand and run, without the need for a separate compilation step.\n",
        "\n",
        "3. What are pre-defined keywords in Python?\n",
        "Pre-defined keywords are special, reserved words in Python that have specific meanings and purposes. They cannot be used as variable names, function names, or any other identifiers. Examples include\n",
        "\n",
        "if, else, for, while, def, class, import, and return.\n",
        "\n",
        "4.Can keywords be used as variable names?\n",
        "No, keywords cannot be used as variable names. Attempting to do so will result in a\n",
        "SyntaxError.\n",
        "\n",
        "5. What is mutability in Python?\n",
        "Mutability refers to an object's ability to be changed after it has been created. A mutable object's state can be altered without creating a new object. Examples of mutable data types include lists, dictionaries, and sets.\n",
        "\n",
        "6. Why are lists mutable, but tuples are immutable?\n",
        "Lists are mutable because they are designed to be dynamic data structures where elements can be added, removed, or changed in place. Tuples are immutable because they are intended to be static data structures. Once a tuple is created, its elements cannot be changed. This immutability makes them useful for representing fixed collections of data and for use as dictionary keys\n",
        "\n",
        "\n",
        "7. What is the difference between \"==\" and \"is\" operators in Python?\n",
        "\n",
        "== (Equality operator): This operator checks if the values of two objects are equal. It compares the content of the objects.\n",
        "\n",
        "is (Identity operator): This operator checks if two objects refer to the exact same object in memory. It compares the memory addresses of the objects.\n",
        "\n",
        "8. What are logical operators in Python?\n",
        "Logical operators are used to combine conditional statements. The three logical operators in Python are:\n",
        "\n",
        "and: Returns True if both statements are true.\n",
        "\n",
        "or: Returns True if at least one of the statements is true.\n",
        "\n",
        "not: Reverses the result; returns False if the statement is true.\n",
        "\n",
        "9. What is type casting in Python?\n",
        "Type casting is the process of converting a variable from one data type to another. For example, converting an integer to a string or a string to a float.\n",
        "\n",
        "\n",
        "10.What is the difference between implicit and explicit type casting?\n",
        "\n",
        "Implicit Type Casting: This is an automatic conversion of data types by the Python interpreter. It occurs when a low-level data type is combined with a high-level one (e.g., adding an integer to a float).\n",
        "\n",
        "\n",
        "Explicit Type Casting: This is a manual conversion performed by the user using built-in functions like int(), float(), str(), or bool(). This is done when the implicit conversion is not possible or not desired.\n",
        "\n",
        "11. What is the purpose of conditional statements in Python?\n",
        "Conditional statements (like\n",
        "\n",
        "if, elif, and else) allow a program to make decisions based on certain conditions. They enable the program to execute different blocks of code depending on whether a condition evaluates to\n",
        "\n",
        "True or False.\n",
        "\n",
        "12. How does the elif statement work?\n",
        "\n",
        "\n",
        "elif (else if) statement is used to check multiple conditions after an initial if statement. If the\n",
        "\n",
        "if condition is False, the program moves to the elif statement to check its condition. If the elif condition is True, its code block is executed, and the rest of the conditional block is skipped. You can have multiple elif statements.\n",
        "\n",
        "\n",
        "13.What is the difference between for and while loops?\n",
        "\n",
        "for loop: This loop is used for iterating over a sequence (like a list, tuple, or string) or any other iterable object. It is best used when you know the number of iterations in advance.\n",
        "\n",
        "\n",
        "while loop: This loop executes a block of code as long as a specified condition is True. It is best used when the number of iterations is not known beforehand and depends on a condition being met.\n",
        "\n",
        "\n",
        "14. Describe a scenario where a while loop is more suitable than a for loop.\n",
        "A\n",
        "\n",
        "while loop is more suitable when you need to repeat an action until a specific, unpredictable condition is met. For example, a program that asks for user input and continues to ask until the user enters a specific word like \"quit\" or a number within a certain range. In this case, you don't know in advance how many times the user will need to try, so a\n",
        "for loop is not appropriate."
      ],
      "metadata": {
        "id": "ajBDRtEYpcOj"
      }
    },
    {
      "cell_type": "markdown",
      "source": [
        "Practical Questions"
      ],
      "metadata": {
        "id": "fZIGZkJ5qFaF"
      }
    },
    {
      "cell_type": "code",
      "source": [
        "#Que : 2\n",
        "\n",
        "print(\"Hello, World!\")"
      ],
      "metadata": {
        "colab": {
          "base_uri": "https://localhost:8080/"
        },
        "id": "KDfCh6UkqIR6",
        "outputId": "993e1516-7c5e-4b65-8fb6-21fe5144f123"
      },
      "execution_count": null,
      "outputs": [
        {
          "output_type": "stream",
          "name": "stdout",
          "text": [
            "Hello, World!\n"
          ]
        }
      ]
    },
    {
      "cell_type": "code",
      "source": [
        "# ans : 2\n",
        "name = \"Mr.A\"  # Replace with your name\n",
        "age = 22          # Replace with your age\n",
        "print(\"Name:\", name)\n",
        "print(\"Age:\", age)"
      ],
      "metadata": {
        "colab": {
          "base_uri": "https://localhost:8080/"
        },
        "id": "Rv11jsWUqyxF",
        "outputId": "200076d0-66c7-4c3c-eadf-b57e6afe0a99"
      },
      "execution_count": null,
      "outputs": [
        {
          "output_type": "stream",
          "name": "stdout",
          "text": [
            "Name: Mr.A\n",
            "Age: 22\n"
          ]
        }
      ]
    },
    {
      "cell_type": "code",
      "source": [
        "# ans : 3\n",
        "import keyword\n",
        "\n",
        "print(\"List of Python keywords:\")\n",
        "print(keyword.kwlist)"
      ],
      "metadata": {
        "colab": {
          "base_uri": "https://localhost:8080/"
        },
        "id": "S6sTcOb6q_Cw",
        "outputId": "db1c8c39-c62e-4f37-e17f-a66d3e5cb7bf"
      },
      "execution_count": null,
      "outputs": [
        {
          "output_type": "stream",
          "name": "stdout",
          "text": [
            "List of Python keywords:\n",
            "['False', 'None', 'True', 'and', 'as', 'assert', 'async', 'await', 'break', 'class', 'continue', 'def', 'del', 'elif', 'else', 'except', 'finally', 'for', 'from', 'global', 'if', 'import', 'in', 'is', 'lambda', 'nonlocal', 'not', 'or', 'pass', 'raise', 'return', 'try', 'while', 'with', 'yield']\n"
          ]
        }
      ]
    },
    {
      "cell_type": "code",
      "source": [
        "Ans : 4\n",
        "import keyword\n",
        "\n",
        "word = \"for\"  # Replace with the word you want to check\n",
        "\n",
        "if keyword.iskeyword(word):\n",
        "    print(f\"'{word}' is a Python keyword.\")\n",
        "else:\n",
        "    print(f\"'{word}' is not a Python keyword.\")"
      ],
      "metadata": {
        "colab": {
          "base_uri": "https://localhost:8080/"
        },
        "id": "bPASsTuyrIcv",
        "outputId": "d789e3fc-ea6a-4946-fbd5-5606f29489a8"
      },
      "execution_count": null,
      "outputs": [
        {
          "output_type": "stream",
          "name": "stdout",
          "text": [
            "'for' is a Python keyword.\n"
          ]
        }
      ]
    },
    {
      "cell_type": "code",
      "source": [
        "# ans : 5\n",
        "# List (mutable)\n",
        "my_list = [10, 20, 30]\n",
        "print(\"Original list:\", my_list)\n",
        "\n",
        "# Attempt to change an element\n",
        "my_list[1] = 25\n",
        "print(\"Modified list:\", my_list)\n",
        "\n",
        "# Tuple (immutable)\n",
        "my_tuple = (10, 20, 30)\n",
        "print(\"\\nOriginal tuple:\", my_tuple)\n",
        "\n",
        "# Attempt to change an element (will raise a TypeError)\n",
        "try:\n",
        "    my_tuple[1] = 25\n",
        "except TypeError as e:\n",
        "    print(f\"Error when modifying tuple: {e}\")"
      ],
      "metadata": {
        "colab": {
          "base_uri": "https://localhost:8080/"
        },
        "id": "yOZupCTXrR1G",
        "outputId": "80884141-02c9-4120-c75d-bc246da604c7"
      },
      "execution_count": null,
      "outputs": [
        {
          "output_type": "stream",
          "name": "stdout",
          "text": [
            "Original list: [10, 20, 30]\n",
            "Modified list: [10, 25, 30]\n",
            "\n",
            "Original tuple: (10, 20, 30)\n",
            "Error when modifying tuple: 'tuple' object does not support item assignment\n"
          ]
        }
      ]
    },
    {
      "cell_type": "code",
      "source": [
        "# Ans : 6\n",
        "# Function with an immutable argument (integer)\n",
        "def change_immutable(x):\n",
        "    print(f\"Inside function (before change): x = {x}\")\n",
        "    x = x + 10\n",
        "    print(f\"Inside function (after change): x = {x}\")\n",
        "\n",
        "num = 5\n",
        "print(f\"Before function call: num = {num}\")\n",
        "change_immutable(num)\n",
        "print(f\"After function call: num = {num}\") # The original 'num' is unchanged\n",
        "\n",
        "print(\"-\" * 20)\n",
        "\n",
        "# Function with a mutable argument (list)\n",
        "def change_mutable(my_list):\n",
        "    print(f\"Inside function (before change): my_list = {my_list}\")\n",
        "    my_list.append(4)\n",
        "    print(f\"Inside function (after change): my_list = {my_list}\")\n",
        "\n",
        "list_to_change = [1, 2, 3]\n",
        "print(f\"Before function call: list_to_change = {list_to_change}\")\n",
        "change_mutable(list_to_change)\n",
        "print(f\"After function call: list_to_change = {list_to_change}\") # The original list is changed."
      ],
      "metadata": {
        "colab": {
          "base_uri": "https://localhost:8080/"
        },
        "id": "1vzZRi5trbfP",
        "outputId": "b63f0f3c-38d7-4d92-f628-4b6805e9293d"
      },
      "execution_count": null,
      "outputs": [
        {
          "output_type": "stream",
          "name": "stdout",
          "text": [
            "Before function call: num = 5\n",
            "Inside function (before change): x = 5\n",
            "Inside function (after change): x = 15\n",
            "After function call: num = 5\n",
            "--------------------\n",
            "Before function call: list_to_change = [1, 2, 3]\n",
            "Inside function (before change): my_list = [1, 2, 3]\n",
            "Inside function (after change): my_list = [1, 2, 3, 4]\n",
            "After function call: list_to_change = [1, 2, 3, 4]\n"
          ]
        }
      ]
    },
    {
      "cell_type": "code",
      "source": [
        "# ans 7\n",
        "try:\n",
        "    num1 = float(input(\"Enter the first number: \"))\n",
        "    num2 = float(input(\"Enter the second number: \"))\n",
        "\n",
        "    print(f\"\\nAddition: {num1} + {num2} = {num1 + num2}\")\n",
        "    print(f\"Subtraction: {num1} - {num2} = {num1 - num2}\")\n",
        "    print(f\"Multiplication: {num1} * {num2} = {num1 * num2}\")\n",
        "    if num2 != 0:\n",
        "        print(f\"Division: {num1} / {num2} = {num1 / num2}\")\n",
        "    else:\n",
        "        print(\"Division by zero is not possible.\")\n",
        "\n",
        "except ValueError:\n",
        "    print(\"Invalid input. Please enter numbers only.\")"
      ],
      "metadata": {
        "id": "81mOQPljrsJR"
      },
      "execution_count": null,
      "outputs": []
    },
    {
      "cell_type": "code",
      "source": [
        "#ans 8\n",
        "age = 25\n",
        "has_license = True\n",
        "\n",
        "# Using 'and'\n",
        "if age >= 18 and has_license:\n",
        "    print(\"You are an adult and can drive.\")\n",
        "\n",
        "# Using 'or'\n",
        "is_student = False\n",
        "if is_student or age < 18:\n",
        "    print(\"You are either a student or a minor.\")\n",
        "\n",
        "# Using 'not'\n",
        "is_sunny = True\n",
        "if not is_sunny:\n",
        "    print(\"It is not sunny today.\")"
      ],
      "metadata": {
        "colab": {
          "base_uri": "https://localhost:8080/"
        },
        "id": "J3jOmbt6sNy3",
        "outputId": "7c6addaf-4b64-496c-802c-dcf8f2274396"
      },
      "execution_count": null,
      "outputs": [
        {
          "output_type": "stream",
          "name": "stdout",
          "text": [
            "You are an adult and can drive.\n"
          ]
        }
      ]
    },
    {
      "cell_type": "code",
      "source": [
        "# ans 9\n",
        "# String to Integer\n",
        "string_int = \"123\"\n",
        "integer_value = int(string_int)\n",
        "print(f\"Converted '{string_int}' to integer: {integer_value}, type: {type(integer_value)}\")\n",
        "\n",
        "# String to Float\n",
        "string_float = \"123.45\"\n",
        "float_value = float(string_float)\n",
        "print(f\"Converted '{string_float}' to float: {float_value}, type: {type(float_value)}\")\n",
        "\n",
        "# String to Boolean\n",
        "# In Python, non-empty strings are True, empty strings are False.\n",
        "bool_true = bool(\"Hello\")\n",
        "bool_false = bool(\"\")\n",
        "print(f\"Converted 'Hello' to boolean: {bool_true}, type: {type(bool_true)}\")\n",
        "print(f\"Converted '' to boolean: {bool_false}, type: {type(bool_false)}\")"
      ],
      "metadata": {
        "colab": {
          "base_uri": "https://localhost:8080/"
        },
        "id": "BskHxJdHscuF",
        "outputId": "b6579f5f-904b-48b0-93ab-6f0d1fa640b0"
      },
      "execution_count": null,
      "outputs": [
        {
          "output_type": "stream",
          "name": "stdout",
          "text": [
            "Converted '123' to integer: 123, type: <class 'int'>\n",
            "Converted '123.45' to float: 123.45, type: <class 'float'>\n",
            "Converted 'Hello' to boolean: True, type: <class 'bool'>\n",
            "Converted '' to boolean: False, type: <class 'bool'>\n"
          ]
        }
      ]
    },
    {
      "cell_type": "code",
      "source": [
        "#ans 10\n",
        "string_list = [\"1\", \"2\", \"3\", \"4\"]\n",
        "print(f\"Original list of strings: {string_list}\")\n",
        "\n",
        "# Convert list of strings to a list of integers\n",
        "int_list = [int(i) for i in string_list]\n",
        "print(f\"List of integers: {int_list}\")\n",
        "\n",
        "# Convert list of strings to a list of floats\n",
        "float_list = [float(i) for i in string_list]\n",
        "print(f\"List of floats: {float_list}\")"
      ],
      "metadata": {
        "colab": {
          "base_uri": "https://localhost:8080/"
        },
        "id": "WQ1gq7nJs3Uj",
        "outputId": "75345b11-c2fd-4a1d-b910-6ae35374d1c8"
      },
      "execution_count": null,
      "outputs": [
        {
          "output_type": "stream",
          "name": "stdout",
          "text": [
            "Original list of strings: ['1', '2', '3', '4']\n",
            "List of integers: [1, 2, 3, 4]\n",
            "List of floats: [1.0, 2.0, 3.0, 4.0]\n"
          ]
        }
      ]
    },
    {
      "cell_type": "code",
      "source": [
        "# ans 11\n",
        "try:\n",
        "    number = float(input(\"Enter a number: \"))\n",
        "    if number > 0:\n",
        "        print(\"The number is positive.\")\n",
        "    elif number < 0:\n",
        "        print(\"The number is negative.\")\n",
        "    else:\n",
        "        print(\"The number is zero.\")\n",
        "except ValueError:\n",
        "    print(\"Invalid input. Please enter a number.\")"
      ],
      "metadata": {
        "id": "k0okG6uOtJDI"
      },
      "execution_count": null,
      "outputs": []
    },
    {
      "cell_type": "markdown",
      "source": [],
      "metadata": {
        "id": "o1OEiSea2WWR"
      }
    },
    {
      "cell_type": "code",
      "source": [
        "#ans 12\n",
        "for i in range(1, 11):\n",
        "    print(i)"
      ],
      "metadata": {
        "id": "nDcIiQgktYRW"
      },
      "execution_count": null,
      "outputs": []
    },
    {
      "cell_type": "code",
      "source": [
        "#ans 13\n",
        "sum_of_evens = 0\n",
        "for number in range(1, 51):\n",
        "    if number % 2 == 0:\n",
        "        sum_of_evens += number\n",
        "\n",
        "print(\"The sum of all even numbers between 1 and 50 is:\", sum_of_evens)"
      ],
      "metadata": {
        "id": "a02yCalxtg_N"
      },
      "execution_count": null,
      "outputs": []
    },
    {
      "cell_type": "code",
      "source": [
        "#ans 14\n",
        "my_string = \"Hello\"\n",
        "reversed_string = \"\"\n",
        "index = len(my_string) - 1\n",
        "\n",
        "while index >= 0:\n",
        "    reversed_string += my_string[index]\n",
        "    index -= 1\n",
        "\n",
        "print(f\"Original string: {my_string}\")\n",
        "print(f\"Reversed string: {reversed_string}\")"
      ],
      "metadata": {
        "id": "1Vp2r4X1t1Ca"
      },
      "execution_count": null,
      "outputs": []
    },
    {
      "cell_type": "code",
      "source": [
        "#ans 15\n",
        "try:\n",
        "    num = int(input(\"Enter a non-negative integer: \"))\n",
        "    if num < 0:\n",
        "        print(\"Factorial is not defined for negative numbers.\")\n",
        "    elif num == 0:\n",
        "        print(\"The factorial of 0 is 1.\")\n",
        "    else:\n",
        "        factorial = 1\n",
        "        i = 1\n",
        "        while i <= num:\n",
        "            factorial *= i\n",
        "            i += 1\n",
        "        print(f\"The factorial of {num} is {factorial}.\")\n",
        "except ValueError:\n",
        "    print(\"Invalid input. Please enter an integer.\")"
      ],
      "metadata": {
        "id": "6PHhfXXwt_W-"
      },
      "execution_count": null,
      "outputs": []
    }
  ]
}